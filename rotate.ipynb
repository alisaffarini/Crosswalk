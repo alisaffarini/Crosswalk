{
 "cells": [
  {
   "cell_type": "code",
   "execution_count": 2,
   "metadata": {},
   "outputs": [
    {
     "data": {
      "text/plain": [
       "True"
      ]
     },
     "execution_count": 2,
     "metadata": {},
     "output_type": "execute_result"
    }
   ],
   "source": [
    "import cv2\n",
    "import numpy as np\n",
    "\n",
    "\n",
    "def rotate_image_to_vertical(image, point1, point2):\n",
    "    # Calculate the angle of rotation\n",
    "    dx = point2[0] - point1[0]\n",
    "    dy = point2[1] - point1[1]\n",
    "    angle = np.degrees(np.arctan2(dx, dy))\n",
    "\n",
    "    # Get image dimensions\n",
    "    height, width = image.shape[:2]\n",
    "\n",
    "    # Calculate the rotation matrix\n",
    "    rotation_matrix = cv2.getRotationMatrix2D((width/2, height/2), angle, 1)\n",
    "\n",
    "    # Calculate new image dimensions\n",
    "    cos = np.abs(rotation_matrix[0, 0])\n",
    "    sin = np.abs(rotation_matrix[0, 1])\n",
    "    new_width = int((height * sin) + (width * cos))\n",
    "    new_height = int((height * cos) + (width * sin))\n",
    "\n",
    "    # Adjust the rotation matrix\n",
    "    rotation_matrix[0, 2] += (new_width / 2) - (width / 2)\n",
    "    rotation_matrix[1, 2] += (new_height / 2) - (height / 2)\n",
    "\n",
    "    # Perform the rotation\n",
    "    rotated_image = cv2.warpAffine(image, rotation_matrix, (new_width, new_height), borderValue=(0, 0, 0))\n",
    "\n",
    "    # Crop the image to original size\n",
    "    start_x = (new_width - width) // 2\n",
    "    start_y = (new_height - height) // 2\n",
    "    final_image = rotated_image[start_y:start_y+height, start_x:start_x+width]\n",
    "\n",
    "    return final_image\n",
    "\n",
    "# Usage example\n",
    "image = cv2.imread('trial.png')\n",
    "point1 = (0.369629442691803, 0.32424286007881165)  # Replace with your first coordinate\n",
    "point2 = (0.45805561542510986, 0.9975407123565674)  # Replace with your second coordinate\n",
    "result = rotate_image_to_vertical(image, point1, point2)\n",
    "cv2.imwrite('rotated_image2.jpg', result)\n"
   ]
  },
  {
   "cell_type": "code",
   "execution_count": null,
   "metadata": {},
   "outputs": [],
   "source": []
  }
 ],
 "metadata": {
  "kernelspec": {
   "display_name": "Python 3",
   "language": "python",
   "name": "python3"
  },
  "language_info": {
   "codemirror_mode": {
    "name": "ipython",
    "version": 3
   },
   "file_extension": ".py",
   "mimetype": "text/x-python",
   "name": "python",
   "nbconvert_exporter": "python",
   "pygments_lexer": "ipython3",
   "version": "3.12.4"
  }
 },
 "nbformat": 4,
 "nbformat_minor": 2
}
